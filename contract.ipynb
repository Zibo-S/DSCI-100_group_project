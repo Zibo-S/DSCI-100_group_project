{
 "cells": [
  {
   "cell_type": "markdown",
   "metadata": {},
   "source": [
    "### Group Contract"
   ]
  },
  {
   "cell_type": "markdown",
   "metadata": {},
   "source": [
    "GOALS: By using jupyter notebook and Read data using spreadsheets and scraping data. Using analyzation methods to interpret the trend of data. Finally, creating a plot to visualize and present the result. "
   ]
  },
  {
   "cell_type": "markdown",
   "metadata": {},
   "source": [
    "EXPECTATIONS: attend most of the group meeting, actively participate with each other."
   ]
  },
  {
   "cell_type": "markdown",
   "metadata": {},
   "source": [
    "POLICIES & PROCEDURES:  We will be adhering to all the policies and rules written on the course syllabus. All work done on the group project will be done by us, with no help from outside sources. "
   ]
  },
  {
   "cell_type": "markdown",
   "metadata": {},
   "source": [
    "CONSEQUENCES: First communicate with members, if communication failed, may require TA for help."
   ]
  },
  {
   "cell_type": "markdown",
   "metadata": {},
   "source": [
    "Members: Danni Li ; Vanessa Pang; Zunquan Wang; Diane Xu; Zibo Shang"
   ]
  }
 ],
 "metadata": {
  "kernelspec": {
   "display_name": "R",
   "language": "R",
   "name": "ir"
  },
  "language_info": {
   "codemirror_mode": "r",
   "file_extension": ".r",
   "mimetype": "text/x-r-source",
   "name": "R",
   "pygments_lexer": "r",
   "version": "4.0.0"
  }
 },
 "nbformat": 4,
 "nbformat_minor": 4
}
